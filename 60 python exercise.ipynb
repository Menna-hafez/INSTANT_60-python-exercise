{
 "cells": [
  {
   "cell_type": "markdown",
   "id": "759d04ba",
   "metadata": {},
   "source": [
    "**1-Write a Python program to calculate the length of a string using 2 ways"
   ]
  },
  {
   "cell_type": "code",
   "execution_count": 1,
   "id": "e434c950",
   "metadata": {},
   "outputs": [
    {
     "data": {
      "text/plain": [
       "12"
      ]
     },
     "execution_count": 1,
     "metadata": {},
     "output_type": "execute_result"
    }
   ],
   "source": [
    "# ------------ SOLVED ------------\n",
    "def StringLength(mystring):\n",
    "    return len(mystring)\n",
    "\n",
    "StringLength(\"Hello World!\")"
   ]
  },
  {
   "cell_type": "code",
   "execution_count": null,
   "id": "7a2dfa32",
   "metadata": {},
   "outputs": [],
   "source": []
  },
  {
   "cell_type": "markdown",
   "id": "d7cc9da7",
   "metadata": {},
   "source": [
    "**2-Write a Python program to get a string made of the first 2 and last 2 characters of a given string. If the string length is less than 2, return the empty string instead (\"##Sample String : 'w3resource'\n",
    "Expected Result : 'w3ce'\n",
    "##Sample String : 'w3'\n",
    "Expected Result : 'w3w3'\n",
    "##Sample String : ' w'\n",
    "Expected Result : Empty String)"
   ]
  },
  {
   "cell_type": "code",
   "execution_count": null,
   "id": "dafa9dd8",
   "metadata": {},
   "outputs": [],
   "source": []
  },
  {
   "cell_type": "markdown",
   "id": "1534f956",
   "metadata": {},
   "source": [
    "**3-Write a Python program to add 'ing' at the end of a given string (length should be at least 3). If the given string already ends with 'ing', add 'ly' instead. If the string length of the given string is less than 3, leave it unchanged. (Sample String : 'abc'\n",
    "Expected Result : 'abcing')"
   ]
  },
  {
   "cell_type": "code",
   "execution_count": 2,
   "id": "7ff8cec4",
   "metadata": {},
   "outputs": [
    {
     "data": {
      "text/plain": [
       "'abcing'"
      ]
     },
     "execution_count": 2,
     "metadata": {},
     "output_type": "execute_result"
    }
   ],
   "source": [
    "# ------------ SOLVED ------------\n",
    "def AddCharacters(mystring):\n",
    "    if len(mystring) >= 3 and not mystring.endswith('ing'):\n",
    "        mystring += 'ing'\n",
    "    elif mystring.endswith('ing'):\n",
    "        mystring += 'ly'\n",
    "    elif len(mystring) < 3:\n",
    "        mystring = mystring\n",
    "    return mystring\n",
    "\n",
    "AddCharacters('abc')"
   ]
  },
  {
   "cell_type": "markdown",
   "id": "1c0a6627",
   "metadata": {},
   "source": [
    "**4-Write a Python function that takes a list of words and return the longest word and the length of the longest one\n",
    "(Longest word: Exercises\n",
    "Length of the longest word: 9)"
   ]
  },
  {
   "cell_type": "code",
   "execution_count": 3,
   "id": "397341d9",
   "metadata": {},
   "outputs": [
    {
     "name": "stdout",
     "output_type": "stream",
     "text": [
      "The Longest Word is Practice and its length is 8\n"
     ]
    }
   ],
   "source": [
    "# ------------ SOLVED ------------\n",
    "def LongestWord(mylist):\n",
    "    max_word = 0\n",
    "    for i in mylist:\n",
    "        if len(i) > max_word:\n",
    "            max_word = len(i)\n",
    "        else:\n",
    "            continue\n",
    "    return 'The Longest Word is ' + i + ' and its length is ' + str(max_word)\n",
    "\n",
    "print(LongestWord(['Hello', 'Yes', 'Great', 'Practice']))"
   ]
  },
  {
   "cell_type": "markdown",
   "id": "53a03a6a",
   "metadata": {},
   "source": [
    "**5-Write a Python program to change a given string to a newly string where the first and last chars have been exchanged using 2 ways (Sample String:abca  Expected Result:ebce)"
   ]
  },
  {
   "cell_type": "code",
   "execution_count": 4,
   "id": "fd327d2a",
   "metadata": {},
   "outputs": [
    {
     "name": "stdout",
     "output_type": "stream",
     "text": [
      "['a', 'e', 'n', 'n', 'M']\n"
     ]
    }
   ],
   "source": [
    "# ------------ SOLVED ------------\n",
    "def ExchangeCharacters(mystring):\n",
    "    mystring_list = list(mystring)\n",
    "    x = mystring_list[len(mystring_list)-1]\n",
    "    mystring_list[len(mystring)-1] = mystring[0]\n",
    "    mystring_list[0] = x\n",
    "    my_new_string = str(mystring_list)\n",
    "    return my_new_string\n",
    "\n",
    "print(ExchangeCharacters('Menna'))"
   ]
  },
  {
   "cell_type": "code",
   "execution_count": null,
   "id": "285788b4",
   "metadata": {},
   "outputs": [],
   "source": []
  },
  {
   "cell_type": "markdown",
   "id": "25f89808",
   "metadata": {},
   "source": [
    "**6-Write a Python program to remove characters that have odd index values in a given string (Sample String:abca Expected Result:ac)"
   ]
  },
  {
   "cell_type": "code",
   "execution_count": 5,
   "id": "05959bd7",
   "metadata": {},
   "outputs": [
    {
     "name": "stdout",
     "output_type": "stream",
     "text": [
      "ac\n"
     ]
    }
   ],
   "source": [
    "# ------------ SOLVED ------------\n",
    "def RemoveOddChar(mystring):\n",
    "    result = ''\n",
    "    for i in range(len(mystring)):\n",
    "        if i % 2 == 0:\n",
    "            result += mystring[i]\n",
    "        else:\n",
    "            continue\n",
    "    return result\n",
    "\n",
    "print(RemoveOddChar(\"abca\"))"
   ]
  },
  {
   "cell_type": "markdown",
   "id": "eb16e898",
   "metadata": {},
   "source": [
    "**7-Write a Python program to count the occurrences of each word in a given sentence (Sample String:amr and ahmed are frindes but amr is the tallest Expected Result:2)"
   ]
  },
  {
   "cell_type": "code",
   "execution_count": null,
   "id": "01ce6cf5",
   "metadata": {},
   "outputs": [],
   "source": []
  },
  {
   "cell_type": "markdown",
   "id": "4e8125f1",
   "metadata": {},
   "source": [
    "**8-Write a Python script that takes input from the user and displays that input back in upper and lower cases"
   ]
  },
  {
   "cell_type": "code",
   "execution_count": 6,
   "id": "66c8f778",
   "metadata": {},
   "outputs": [
    {
     "name": "stdout",
     "output_type": "stream",
     "text": [
      "Please, enter your name: Menna\n",
      "This is your name in upper case: MENNA\n",
      "This is your name in lower case: menna\n"
     ]
    }
   ],
   "source": [
    "# ------------ SOLVED ------------\n",
    "name = input('Please, enter your name: ')\n",
    "print('This is your name in upper case: ' + name.upper())\n",
    "print('This is your name in lower case: ' + name.lower())"
   ]
  },
  {
   "cell_type": "markdown",
   "id": "fcd68aa1",
   "metadata": {},
   "source": [
    "**9-Write a Python function to reverse a string if its length is a multiple of 4"
   ]
  },
  {
   "cell_type": "code",
   "execution_count": 7,
   "id": "0671a931",
   "metadata": {},
   "outputs": [
    {
     "name": "stdout",
     "output_type": "stream",
     "text": [
      "Menna\n",
      "anaR\n"
     ]
    }
   ],
   "source": [
    "# ------------ SOLVED ------------\n",
    "def ReverseString(mystring):\n",
    "    if len(mystring) % 4 == 0:\n",
    "        mystring = mystring[::-1]\n",
    "    return mystring\n",
    "\n",
    "print(ReverseString('Menna'))\n",
    "print(ReverseString('Rana'))"
   ]
  },
  {
   "cell_type": "markdown",
   "id": "b577c68d",
   "metadata": {},
   "source": [
    "**10- Write a Python program to remove a newline in Python"
   ]
  },
  {
   "cell_type": "code",
   "execution_count": 8,
   "id": "e0c6525a",
   "metadata": {},
   "outputs": [
    {
     "name": "stdout",
     "output_type": "stream",
     "text": [
      "Hello World\n",
      "\n"
     ]
    }
   ],
   "source": [
    "# ------------ SOLVED ------------\n",
    "def RemoveNewLine(mystring):\n",
    "    mystring.rstrip()\n",
    "    return mystring\n",
    "\n",
    "print(RemoveNewLine(\"Hello World\\n\"))"
   ]
  },
  {
   "cell_type": "markdown",
   "id": "80db5ae0",
   "metadata": {},
   "source": [
    "**11-Write a Python program to check whether a string starts with specified characters"
   ]
  },
  {
   "cell_type": "code",
   "execution_count": 9,
   "id": "0cc4e03e",
   "metadata": {},
   "outputs": [
    {
     "name": "stdout",
     "output_type": "stream",
     "text": [
      "Yes, the string starts with H\n"
     ]
    }
   ],
   "source": [
    "# ------------ SOLVED ------------\n",
    "def CheckFirstChar(mystring, char):\n",
    "    if mystring.startswith(char):\n",
    "        return 'Yes, the string starts with ' + char\n",
    "    else:\n",
    "        return 'No, the string does not start with ' + char\n",
    "\n",
    "print(CheckFirstChar('Hello World', 'H'))"
   ]
  },
  {
   "cell_type": "markdown",
   "id": "593a68db",
   "metadata": {},
   "source": [
    "**12- Write a Python program to add prefix text to all of the lines in a string"
   ]
  },
  {
   "cell_type": "code",
   "execution_count": null,
   "id": "d2e46ada",
   "metadata": {},
   "outputs": [],
   "source": []
  },
  {
   "cell_type": "markdown",
   "id": "86fa1543",
   "metadata": {},
   "source": [
    "**13-Write a Python program to print the following numbers up to 2 decimal places"
   ]
  },
  {
   "cell_type": "code",
   "execution_count": 10,
   "id": "cd4a9d89",
   "metadata": {},
   "outputs": [
    {
     "name": "stdout",
     "output_type": "stream",
     "text": [
      "6.16\n"
     ]
    }
   ],
   "source": [
    "# ------------ SOLVED ------------\n",
    "def FloatNumbers(num):\n",
    "    float_format = '{:.2f}'.format(num)\n",
    "    return float_format\n",
    "\n",
    "print(FloatNumbers(6.15783022901))"
   ]
  },
  {
   "cell_type": "markdown",
   "id": "452c0ab0",
   "metadata": {},
   "source": [
    "**14-Write a Python program to print the following numbers up to 2 decimal places with a sign"
   ]
  },
  {
   "cell_type": "code",
   "execution_count": 11,
   "id": "73e82479",
   "metadata": {},
   "outputs": [
    {
     "name": "stdout",
     "output_type": "stream",
     "text": [
      "-6.91\n",
      "+4.91\n"
     ]
    }
   ],
   "source": [
    "# ------------ SOLVED ------------\n",
    "def FloatNumbers(num):\n",
    "    float_format = '{:+.2f}'.format(num)\n",
    "    return float_format\n",
    "\n",
    "print(FloatNumbers(-6.9076))\n",
    "print(FloatNumbers(+4.9074846))"
   ]
  },
  {
   "cell_type": "markdown",
   "id": "32b1811a",
   "metadata": {},
   "source": [
    "**15-Write a Python program to display a number with a comma separator"
   ]
  },
  {
   "cell_type": "code",
   "execution_count": 12,
   "id": "f30fc0b6",
   "metadata": {},
   "outputs": [
    {
     "name": "stdout",
     "output_type": "stream",
     "text": [
      "5,\n"
     ]
    }
   ],
   "source": [
    "# ------------ SOLVED ------------\n",
    "def CommaSeparator(num):\n",
    "    return str(num) + ','\n",
    "\n",
    "print(CommaSeparator(5))"
   ]
  },
  {
   "cell_type": "markdown",
   "id": "0477f487",
   "metadata": {},
   "source": [
    "**16-Write a Python program to reverse a string using 2 ways"
   ]
  },
  {
   "cell_type": "code",
   "execution_count": 13,
   "id": "aa8beec8",
   "metadata": {},
   "outputs": [
    {
     "name": "stdout",
     "output_type": "stream",
     "text": [
      "!dlroW olleH\n"
     ]
    }
   ],
   "source": [
    "# ------------ SOLVED ------------\n",
    "def ReverseString(mystring):\n",
    "    mystring = mystring[::-1]\n",
    "    return mystring\n",
    "\n",
    "print(ReverseString('Hello World!'))"
   ]
  },
  {
   "cell_type": "markdown",
   "id": "5afc3166",
   "metadata": {},
   "source": [
    " **17-Write a Python program to count repeated characters in a string (hint:use dictionary)"
   ]
  },
  {
   "cell_type": "code",
   "execution_count": 14,
   "id": "515a469c",
   "metadata": {},
   "outputs": [
    {
     "name": "stdout",
     "output_type": "stream",
     "text": [
      "{'M': 1, 'e': 1, 'n': 2, 'a': 1}\n"
     ]
    }
   ],
   "source": [
    "# ------------ SOLVED ------------\n",
    "def RepeatedCharacters(mystring):\n",
    "    mydic = {}\n",
    "    for i in mystring:\n",
    "        if i in mydic:\n",
    "            mydic[i] += 1\n",
    "        if i not in mydic:\n",
    "            mydic[i] = 1\n",
    "    return mydic\n",
    "\n",
    "print(RepeatedCharacters('Menna'))"
   ]
  },
  {
   "cell_type": "markdown",
   "id": "ae14e4e5",
   "metadata": {},
   "source": [
    "**18-Write a Python program to find the first non-repeating character in a given string"
   ]
  },
  {
   "cell_type": "code",
   "execution_count": null,
   "id": "d73778e5",
   "metadata": {},
   "outputs": [],
   "source": []
  },
  {
   "cell_type": "markdown",
   "id": "3adf5669",
   "metadata": {},
   "source": [
    "**19-Write a Python program to remove spaces from a given string"
   ]
  },
  {
   "cell_type": "code",
   "execution_count": 15,
   "id": "b4f22602",
   "metadata": {},
   "outputs": [
    {
     "name": "stdout",
     "output_type": "stream",
     "text": [
      "HelloWorld!\n"
     ]
    }
   ],
   "source": [
    "# ------------ SOLVED ------------\n",
    "def RemoveSpaces(mystring):\n",
    "    mystring = mystring.replace(' ', '')\n",
    "    return mystring\n",
    "\n",
    "print(RemoveSpaces('Hello World !'))"
   ]
  },
  {
   "cell_type": "markdown",
   "id": "734de60c",
   "metadata": {},
   "source": [
    "**20-Write a Python program to count the number of non-empty substrings of a given string"
   ]
  },
  {
   "cell_type": "code",
   "execution_count": 18,
   "id": "ef3f2274",
   "metadata": {},
   "outputs": [
    {
     "name": "stdout",
     "output_type": "stream",
     "text": [
      "11\n"
     ]
    }
   ],
   "source": [
    "# ------------ SOLVED ------------\n",
    "def NonEmptyString(mystring):\n",
    "    count = 0\n",
    "    for i in mystring:\n",
    "        if i != ' ':\n",
    "            count += 1\n",
    "    return count\n",
    "\n",
    "print(NonEmptyString('Hello World!'))"
   ]
  },
  {
   "cell_type": "markdown",
   "id": "509998e2",
   "metadata": {},
   "source": [
    "**21-write a Python program to swap first and last element of any list."
   ]
  },
  {
   "cell_type": "code",
   "execution_count": 19,
   "id": "68692d7f",
   "metadata": {},
   "outputs": [
    {
     "name": "stdout",
     "output_type": "stream",
     "text": [
      "[5, 2, 3, 4, 1]\n"
     ]
    }
   ],
   "source": [
    "# ------------ SOLVED ------------\n",
    "def SwapElements(mylist):\n",
    "    temp_variable = mylist[0]\n",
    "    mylist[0] = mylist[len(mylist)-1]\n",
    "    mylist[len(mylist)-1] = temp_variable\n",
    "    return mylist\n",
    "\n",
    "print(SwapElements([1, 2, 3, 4, 5]))"
   ]
  },
  {
   "cell_type": "markdown",
   "id": "959e0837",
   "metadata": {},
   "source": [
    "**22-Given a list in Python and provided the positions of the elements, write a program to swap the two elements in the list. (Input : List = [23, 65, 19, 90], pos1 = 1, pos2 = 3\n",
    "Output : [19, 65, 23, 90])"
   ]
  },
  {
   "cell_type": "code",
   "execution_count": 20,
   "id": "225d8c6d",
   "metadata": {},
   "outputs": [
    {
     "name": "stdout",
     "output_type": "stream",
     "text": [
      "[19, 65, 23, 90]\n"
     ]
    }
   ],
   "source": [
    "# ------------ SOLVED ------------\n",
    "def SwapElements(mylist, pos1, pos2):\n",
    "    temp_variable = mylist[pos1]\n",
    "    mylist[pos1] = mylist[pos2]\n",
    "    mylist[pos2] = temp_variable\n",
    "    return mylist\n",
    "\n",
    "print(SwapElements([23, 65, 19, 90], 0, 2))"
   ]
  },
  {
   "cell_type": "markdown",
   "id": "66fc6682",
   "metadata": {},
   "source": [
    "**23- search for the all ways to know the length of the list"
   ]
  },
  {
   "cell_type": "code",
   "execution_count": 21,
   "id": "9cfadd98",
   "metadata": {},
   "outputs": [
    {
     "name": "stdout",
     "output_type": "stream",
     "text": [
      "4\n"
     ]
    }
   ],
   "source": [
    "# ------------ SOLVED ------------\n",
    "def ListLength(mylist):\n",
    "    return len(mylist)\n",
    "\n",
    "print(ListLength([23, 65, 19, 90]))"
   ]
  },
  {
   "cell_type": "markdown",
   "id": "5fdf4e8f",
   "metadata": {},
   "source": [
    "**24-write a Python code to find the Maximum number of list of numbers."
   ]
  },
  {
   "cell_type": "code",
   "execution_count": 22,
   "id": "15f342de",
   "metadata": {},
   "outputs": [
    {
     "name": "stdout",
     "output_type": "stream",
     "text": [
      "90\n"
     ]
    }
   ],
   "source": [
    "# ------------ SOLVED ------------\n",
    "def MaxListNumber(mylist):\n",
    "    maximum_number = max(mylist)\n",
    "    return maximum_number\n",
    "\n",
    "print(MaxListNumber([23, 65, 19, 90]))"
   ]
  },
  {
   "cell_type": "markdown",
   "id": "9140cff7",
   "metadata": {},
   "source": [
    "**25-write a Python code to find the Minimum number of list of numbers."
   ]
  },
  {
   "cell_type": "code",
   "execution_count": 23,
   "id": "21f8cbd6",
   "metadata": {},
   "outputs": [
    {
     "name": "stdout",
     "output_type": "stream",
     "text": [
      "19\n"
     ]
    }
   ],
   "source": [
    "# ------------ SOLVED ------------\n",
    "def MinListNumber(mylist):\n",
    "    minimum_number = min(mylist)\n",
    "    return minimum_number\n",
    "\n",
    "print(MinListNumber([23, 65, 19, 90]))"
   ]
  },
  {
   "cell_type": "markdown",
   "id": "96822d96",
   "metadata": {},
   "source": [
    "**26-search for if an elem is existing in list"
   ]
  },
  {
   "cell_type": "code",
   "execution_count": 24,
   "id": "51ca5c9a",
   "metadata": {},
   "outputs": [
    {
     "name": "stdout",
     "output_type": "stream",
     "text": [
      "Yes, the number is in the list\n"
     ]
    }
   ],
   "source": [
    "# ------------ SOLVED ------------\n",
    "def SearchElement(mylist, num):\n",
    "    for i in mylist:\n",
    "        if i == num:\n",
    "            return \"Yes, the number is in the list\"\n",
    "        else:\n",
    "            return \"No, it is not found\"\n",
    "\n",
    "print(SearchElement([5, 4, 8, 2, 3], 5))"
   ]
  },
  {
   "cell_type": "markdown",
   "id": "d9557da7",
   "metadata": {},
   "source": [
    "**27- clear python list using different ways"
   ]
  },
  {
   "cell_type": "code",
   "execution_count": 25,
   "id": "b69858a3",
   "metadata": {},
   "outputs": [
    {
     "name": "stdout",
     "output_type": "stream",
     "text": [
      "None\n"
     ]
    }
   ],
   "source": [
    "# ------------ SOLVED ------------\n",
    "def ClearList(mylist):\n",
    "    mylist = mylist.clear()\n",
    "    return mylist\n",
    "\n",
    "print(ClearList([5, 6, 8, 5, 6, 9]))"
   ]
  },
  {
   "cell_type": "markdown",
   "id": "52160e88",
   "metadata": {},
   "source": [
    "**28-remove duplicated elements from a list"
   ]
  },
  {
   "cell_type": "code",
   "execution_count": 26,
   "id": "5e362228",
   "metadata": {},
   "outputs": [
    {
     "name": "stdout",
     "output_type": "stream",
     "text": [
      "{8, 9, 5, 6}\n"
     ]
    }
   ],
   "source": [
    "# ------------ SOLVED ------------\n",
    "def RemoveDuplicate(mylist):\n",
    "    mylist = set(mylist)\n",
    "    return mylist\n",
    "\n",
    "print(RemoveDuplicate([5, 6, 8, 5, 6, 9]))"
   ]
  },
  {
   "cell_type": "markdown",
   "id": "282337f7",
   "metadata": {},
   "source": [
    "**29-Given list values and keys list, convert these values to key value pairs in form of list of dictionaries. (Input : test_list = [“Gfg”, 3, “is”, 8], key_list = [“name”, “id”]\n",
    "Output : [{‘name’: ‘Gfg’, ‘id’: 3}, {‘name’: ‘is’, ‘id’: 8}])"
   ]
  },
  {
   "cell_type": "code",
   "execution_count": null,
   "id": "4d4e2d28",
   "metadata": {},
   "outputs": [],
   "source": []
  },
  {
   "cell_type": "markdown",
   "id": "c26b6e9f",
   "metadata": {},
   "source": [
    "**30-write a python program to count unique values inside a list using different ways"
   ]
  },
  {
   "cell_type": "code",
   "execution_count": 27,
   "id": "72132667",
   "metadata": {},
   "outputs": [
    {
     "name": "stdout",
     "output_type": "stream",
     "text": [
      "4\n"
     ]
    }
   ],
   "source": [
    "# ------------ SOLVED ------------\n",
    "def CountUnique(mylist):\n",
    "    unique_list = set(mylist)\n",
    "    count = len(unique_list)\n",
    "    return count\n",
    "\n",
    "print(CountUnique([5, 6, 8, 5, 6, 9]))"
   ]
  },
  {
   "cell_type": "code",
   "execution_count": 28,
   "id": "861da6dd",
   "metadata": {},
   "outputs": [
    {
     "name": "stdout",
     "output_type": "stream",
     "text": [
      "(4, [5, 6, 8, 9])\n"
     ]
    }
   ],
   "source": [
    "# ------------ SOLVED ------------\n",
    "def CountUnique(mylist):\n",
    "    unique_list = []\n",
    "    for i in mylist:\n",
    "        if i not in unique_list:\n",
    "            unique_list.append(i)\n",
    "        else:\n",
    "            continue\n",
    "    return len(unique_list), unique_list\n",
    "\n",
    "print(CountUnique([5, 6, 8, 5, 6, 9]))"
   ]
  },
  {
   "cell_type": "markdown",
   "id": "fed6677c",
   "metadata": {},
   "source": [
    "**31-write a python program Extract all elements with Frequency greater than K (Input : test_list = [4, 6, 4, 3, 3, 4, 3, 4, 3, 8], K = 3 \n",
    "Output : [4, 3] )"
   ]
  },
  {
   "cell_type": "code",
   "execution_count": null,
   "id": "d81f3f9d",
   "metadata": {},
   "outputs": [],
   "source": []
  },
  {
   "cell_type": "markdown",
   "id": "caca5224",
   "metadata": {},
   "source": [
    "**32-write a python program to find the Strongest Neighbour (Input: 1 2 2 3 4 5\n",
    "Output: 2 2 3 4 5)"
   ]
  },
  {
   "cell_type": "code",
   "execution_count": null,
   "id": "39fbd9b2",
   "metadata": {},
   "outputs": [],
   "source": []
  },
  {
   "cell_type": "markdown",
   "id": "a9fa8baf",
   "metadata": {},
   "source": [
    "**33-write a Python Program to print all Possible Combinations from the three Digits (Input: [1, 2, 3]\n",
    "Output:\n",
    "1 2 3 ##\n",
    "1 3 2 ##\n",
    "2 1 3 ##\n",
    "2 3 1 ##\n",
    "3 1 2 ##\n",
    "3 2 1)"
   ]
  },
  {
   "cell_type": "code",
   "execution_count": null,
   "id": "8c520a76",
   "metadata": {},
   "outputs": [],
   "source": []
  },
  {
   "cell_type": "markdown",
   "id": "5288bb89",
   "metadata": {},
   "source": [
    "**34-write a Python program to find all the Combinations in the list with the given condition (Input: test_list = [1,2,3] \n",
    "Output: \n",
    " [1], [1, 2], [1, 2, 3], [1, 3]\n",
    " [2], [2, 3], [3])"
   ]
  },
  {
   "cell_type": "code",
   "execution_count": null,
   "id": "59b89646",
   "metadata": {},
   "outputs": [],
   "source": []
  },
  {
   "cell_type": "markdown",
   "id": "39973705",
   "metadata": {},
   "source": [
    "**35-write a Python program to get all unique combinations of two Lists (List_1 = [\"a\",\"b\"]\n",
    "List_2 = [1,2]\n",
    "Unique_combination = [[('a',1),('b',2)],[('a',2),('b',1)]] )"
   ]
  },
  {
   "cell_type": "code",
   "execution_count": null,
   "id": "8c4ba22b",
   "metadata": {},
   "outputs": [],
   "source": []
  },
  {
   "cell_type": "markdown",
   "id": "25199af5",
   "metadata": {},
   "source": [
    "**36-Remove all the occurrences of an element from a list in Python (Input : 1 1 2 3 4 5 1 2 1 \n",
    "\n",
    "**Output : 2 3 4 5 2)"
   ]
  },
  {
   "cell_type": "code",
   "execution_count": 29,
   "id": "6dc4c2ba",
   "metadata": {},
   "outputs": [
    {
     "name": "stdout",
     "output_type": "stream",
     "text": [
      "{1, 2, 3, 4, 5}\n"
     ]
    }
   ],
   "source": [
    "# ------------ SOLVED ------------\n",
    "def RemoveDuplicate(mylist):\n",
    "    mylist = set(mylist)\n",
    "    return mylist\n",
    "\n",
    "print(RemoveDuplicate([1, 1, 2, 3, 4, 5, 1, 2, 1]))"
   ]
  },
  {
   "cell_type": "markdown",
   "id": "bf1a3c93",
   "metadata": {},
   "source": [
    "**37-write a python program to Replace index elements with elements in Other List (The original list 1 is : [‘Gfg’, ‘is’, ‘best’] The original list 2 is : [0, 1, 2, 1, 0, 0, 0, 2, 1, 1, 2, 0] The lists after index elements replacements is : [‘Gfg’, ‘is’, ‘best’, ‘is’, ‘Gfg’, ‘Gfg’, ‘Gfg’, ‘best’, ‘is’, ‘is’, ‘best’, ‘Gfg’])"
   ]
  },
  {
   "cell_type": "code",
   "execution_count": null,
   "id": "fdd66a71",
   "metadata": {},
   "outputs": [],
   "source": []
  },
  {
   "cell_type": "markdown",
   "id": "af0f56e8",
   "metadata": {},
   "source": [
    "**38- write python program to Retain records with N occurrences of K(Input : test_list = [(4, 5, 5, 4), (5, 4, 3)], K = 5, N = 2 \n",
    "Output : [(4, 5, 5, 4)]\n",
    "Input : test_list = [(4, 5, 5, 4), (5, 4, 3)], K = 5, N = 3 \n",
    "Output : [] )"
   ]
  },
  {
   "cell_type": "code",
   "execution_count": null,
   "id": "67b06671",
   "metadata": {},
   "outputs": [],
   "source": []
  },
  {
   "cell_type": "markdown",
   "id": "de76f183",
   "metadata": {},
   "source": [
    "**39-write a Python Program to Sort the list according to the column using lambda\n",
    "array = [[1, 3, 3], [2, 1, 2], [3, 2, 1]]\n",
    "Output :\n",
    "Sorted array specific to column 0, [[1, 3, 3], [2, 1, 2], [3, 2, 1]]\n",
    "Sorted array specific to column 1, [[2, 1, 2], [3, 2, 1], [1, 3, 3]]\n",
    "Sorted array specific to column 2, [[3, 2, 1], [2, 1, 2], [1, 3, 3]]"
   ]
  },
  {
   "cell_type": "code",
   "execution_count": null,
   "id": "dc883308",
   "metadata": {},
   "outputs": [],
   "source": []
  },
  {
   "cell_type": "markdown",
   "id": "172fb3d9",
   "metadata": {},
   "source": [
    "**40- write a program to Sort Python Dictionaries by Key or Value\n",
    "Input:\n",
    "{'ravi': 10, 'rajnish': 9, 'sanjeev': 15, 'yash': 2, 'suraj': 32}\n",
    "\n",
    "Output: \n",
    "{'rajnish': 9, 'ravi': 10, 'sanjeev': 15, 'suraj': 32, 'yash': 2}"
   ]
  },
  {
   "cell_type": "code",
   "execution_count": 30,
   "id": "a96db4a0",
   "metadata": {},
   "outputs": [
    {
     "name": "stdout",
     "output_type": "stream",
     "text": [
      "{'yash': 2, 'rajnish': 9, 'ravi': 10, 'sanjeev': 15, 'suraj': 32}\n"
     ]
    }
   ],
   "source": [
    "# ------------ SOLVED ------------\n",
    "def SortDictionary(mydic):\n",
    "    mydic = dict(sorted(mydic.items(), key = lambda item: item[1]))\n",
    "    return mydic\n",
    "\n",
    "print(SortDictionary({'ravi': 10, 'rajnish': 9, 'sanjeev': 15, 'yash': 2, 'suraj': 32}))"
   ]
  },
  {
   "cell_type": "markdown",
   "id": "ec63c23a",
   "metadata": {},
   "source": [
    "**41-write python program to Remove keys with Values Greater than K ( Including mixed values )\n",
    "nput : test_dict = {‘Gfg’ : 3, ‘is’ : 7, ‘best’ : 10, ‘for’ : 6, ‘geeks’ : ‘CS’},\n",
    "K = 7 \n",
    "Output : {‘Gfg’ : 3, ‘for’ : 6, ‘geeks’ : ‘CS’}"
   ]
  },
  {
   "cell_type": "code",
   "execution_count": 31,
   "id": "e39c3a40",
   "metadata": {},
   "outputs": [],
   "source": [
    "dic1 = {1: 10, 2: 20, 3: 30, 4: 40, 5: 50, 6: 60}\n",
    "value = 5\n",
    "#for i in dic1.keys():\n",
    "    #if i >= 5:\n",
    "        #dic1.popitem()\n",
    "        #break\n",
    "#print(dic1)"
   ]
  },
  {
   "cell_type": "markdown",
   "id": "f143f0fe",
   "metadata": {},
   "source": [
    "**42-Write a Python program to concatenate the following dictionaries to create a new one\n",
    "\n",
    "Sample Dictionary :\n",
    "dic1={1:10, 2:20}\n",
    "dic2={3:30, 4:40}\n",
    "dic3={5:50,6:60}\n",
    "Expected Result : {1: 10, 2: 20, 3: 30, 4: 40, 5: 50, 6: 60}"
   ]
  },
  {
   "cell_type": "code",
   "execution_count": 59,
   "id": "74ffdfea",
   "metadata": {},
   "outputs": [
    {
     "ename": "TypeError",
     "evalue": "unsupported operand type(s) for |: 'dict' and 'dict'",
     "output_type": "error",
     "traceback": [
      "\u001b[1;31m---------------------------------------------------------------------------\u001b[0m",
      "\u001b[1;31mTypeError\u001b[0m                                 Traceback (most recent call last)",
      "\u001b[1;32m<ipython-input-59-69d85ae5e733>\u001b[0m in \u001b[0;36m<module>\u001b[1;34m\u001b[0m\n\u001b[0;32m      4\u001b[0m     \u001b[1;32mreturn\u001b[0m \u001b[0mresult\u001b[0m\u001b[1;33m\u001b[0m\u001b[1;33m\u001b[0m\u001b[0m\n\u001b[0;32m      5\u001b[0m \u001b[1;33m\u001b[0m\u001b[0m\n\u001b[1;32m----> 6\u001b[1;33m \u001b[0mprint\u001b[0m\u001b[1;33m(\u001b[0m\u001b[0mMergeDictionaries\u001b[0m\u001b[1;33m(\u001b[0m\u001b[1;33m{\u001b[0m\u001b[1;36m1\u001b[0m\u001b[1;33m:\u001b[0m\u001b[1;36m10\u001b[0m\u001b[1;33m,\u001b[0m \u001b[1;36m2\u001b[0m\u001b[1;33m:\u001b[0m\u001b[1;36m20\u001b[0m\u001b[1;33m}\u001b[0m\u001b[1;33m,\u001b[0m \u001b[1;33m{\u001b[0m\u001b[1;36m3\u001b[0m\u001b[1;33m:\u001b[0m\u001b[1;36m30\u001b[0m\u001b[1;33m,\u001b[0m \u001b[1;36m4\u001b[0m\u001b[1;33m:\u001b[0m\u001b[1;36m40\u001b[0m\u001b[1;33m}\u001b[0m\u001b[1;33m,\u001b[0m \u001b[1;33m{\u001b[0m\u001b[1;36m5\u001b[0m\u001b[1;33m:\u001b[0m\u001b[1;36m50\u001b[0m\u001b[1;33m,\u001b[0m\u001b[1;36m6\u001b[0m\u001b[1;33m:\u001b[0m\u001b[1;36m60\u001b[0m\u001b[1;33m}\u001b[0m\u001b[1;33m)\u001b[0m\u001b[1;33m)\u001b[0m\u001b[1;33m\u001b[0m\u001b[1;33m\u001b[0m\u001b[0m\n\u001b[0m",
      "\u001b[1;32m<ipython-input-59-69d85ae5e733>\u001b[0m in \u001b[0;36mMergeDictionaries\u001b[1;34m(mydic1, mydic2, mydic3)\u001b[0m\n\u001b[0;32m      1\u001b[0m \u001b[1;31m# ------------ SOLVED ------------\u001b[0m\u001b[1;33m\u001b[0m\u001b[1;33m\u001b[0m\u001b[1;33m\u001b[0m\u001b[0m\n\u001b[0;32m      2\u001b[0m \u001b[1;32mdef\u001b[0m \u001b[0mMergeDictionaries\u001b[0m\u001b[1;33m(\u001b[0m\u001b[0mmydic1\u001b[0m\u001b[1;33m,\u001b[0m \u001b[0mmydic2\u001b[0m\u001b[1;33m,\u001b[0m \u001b[0mmydic3\u001b[0m\u001b[1;33m)\u001b[0m\u001b[1;33m:\u001b[0m\u001b[1;33m\u001b[0m\u001b[1;33m\u001b[0m\u001b[0m\n\u001b[1;32m----> 3\u001b[1;33m     \u001b[0mresult\u001b[0m \u001b[1;33m=\u001b[0m \u001b[0mmydic1\u001b[0m \u001b[1;33m|\u001b[0m \u001b[0mmydic2\u001b[0m \u001b[1;33m|\u001b[0m \u001b[0mmydic3\u001b[0m\u001b[1;33m\u001b[0m\u001b[1;33m\u001b[0m\u001b[0m\n\u001b[0m\u001b[0;32m      4\u001b[0m     \u001b[1;32mreturn\u001b[0m \u001b[0mresult\u001b[0m\u001b[1;33m\u001b[0m\u001b[1;33m\u001b[0m\u001b[0m\n\u001b[0;32m      5\u001b[0m \u001b[1;33m\u001b[0m\u001b[0m\n",
      "\u001b[1;31mTypeError\u001b[0m: unsupported operand type(s) for |: 'dict' and 'dict'"
     ]
    }
   ],
   "source": [
    "# ------------ SOLVED ------------\n",
    "def MergeDictionaries(mydic1, mydic2, mydic3):\n",
    "    result = mydic1 | mydic2 | mydic3\n",
    "    return result\n",
    "\n",
    "print(MergeDictionaries({1:10, 2:20}, {3:30, 4:40}, {5:50,6:60}))"
   ]
  },
  {
   "cell_type": "markdown",
   "id": "fb04c93c",
   "metadata": {},
   "source": [
    "**43-Write a Python program to iterate over dictionaries using for loops"
   ]
  },
  {
   "cell_type": "code",
   "execution_count": 55,
   "id": "6aebc470",
   "metadata": {},
   "outputs": [],
   "source": []
  },
  {
   "cell_type": "markdown",
   "id": "5f491a9d",
   "metadata": {},
   "source": [
    "**44- Write a Python script to merge two Python dictionaries"
   ]
  },
  {
   "cell_type": "code",
   "execution_count": 61,
   "id": "b8a14028",
   "metadata": {},
   "outputs": [
    {
     "name": "stdout",
     "output_type": "stream",
     "text": [
      "{1: 10, 2: 20, 3: 30, 4: 40}\n"
     ]
    }
   ],
   "source": [
    "# ------------ SOLVED ------------\n",
    "def MergeDictionaries(mydic1, mydic2):\n",
    "    mydic3 = {**mydic1, **mydic2}\n",
    "    return mydic3\n",
    "\n",
    "print(MergeDictionaries({1:10, 2:20}, {3:30, 4:40}))"
   ]
  },
  {
   "cell_type": "markdown",
   "id": "216fc72d",
   "metadata": {},
   "source": [
    "**45-Write a Python program to get the maximum and minimum values of a dictionary values"
   ]
  },
  {
   "cell_type": "code",
   "execution_count": null,
   "id": "d6883f5f",
   "metadata": {},
   "outputs": [],
   "source": []
  },
  {
   "cell_type": "markdown",
   "id": "b6a53011",
   "metadata": {},
   "source": [
    "**46- Write a Python program to drop empty items from a given dictionary.\n",
    "Original Dictionary:\n",
    "{'c1': 'Red', 'c2': 'Green', 'c3': None}\n",
    "New Dictionary after dropping empty items:\n",
    "{'c1': 'Red', 'c2': 'Green'}"
   ]
  },
  {
   "cell_type": "code",
   "execution_count": 39,
   "id": "b5c6fecf",
   "metadata": {},
   "outputs": [
    {
     "name": "stdout",
     "output_type": "stream",
     "text": [
      "{'c1': 'Red', 'c2': 'Green'}\n"
     ]
    }
   ],
   "source": [
    "# ------------ SOLVED ------------\n",
    "def DropEmpty(mydic):\n",
    "    if None in mydic.values():\n",
    "        mydic.popitem()\n",
    "    return mydic\n",
    "\n",
    "print(DropEmpty({'c1': 'Red', 'c2': 'Green', 'c3': None}))"
   ]
  },
  {
   "cell_type": "markdown",
   "id": "46d718c7",
   "metadata": {},
   "source": [
    "**47-Write a Python program to create a tuple of numbers and print one item"
   ]
  },
  {
   "cell_type": "code",
   "execution_count": 40,
   "id": "13216ff5",
   "metadata": {},
   "outputs": [
    {
     "name": "stdout",
     "output_type": "stream",
     "text": [
      "3\n"
     ]
    }
   ],
   "source": [
    "# ------------ SOLVED ------------\n",
    "def TupleOneItem(mytuple):\n",
    "    return mytuple[0]\n",
    "\n",
    "print(TupleOneItem((3, 5, 7, 9, 1)))"
   ]
  },
  {
   "cell_type": "markdown",
   "id": "2be5b56b",
   "metadata": {},
   "source": [
    "**48-Write a Python program to unpack a tuple into several variables"
   ]
  },
  {
   "cell_type": "code",
   "execution_count": 41,
   "id": "595f44be",
   "metadata": {},
   "outputs": [
    {
     "name": "stdout",
     "output_type": "stream",
     "text": [
      "15\n"
     ]
    }
   ],
   "source": [
    "# ------------ NOT SOLVED ------------\n",
    "t1 = (1, 2, 3, 4, 5)\n",
    "n1, n2, n3, n4, n5 = t1\n",
    "print(n1 + n2 + n3 + n4 + n5)"
   ]
  },
  {
   "cell_type": "markdown",
   "id": "392388a7",
   "metadata": {},
   "source": [
    "**49-Write a Python program to add an item to a tuple"
   ]
  },
  {
   "cell_type": "code",
   "execution_count": 42,
   "id": "54cc092e",
   "metadata": {},
   "outputs": [
    {
     "name": "stdout",
     "output_type": "stream",
     "text": [
      "(5, 8, 9, 0, 3)\n"
     ]
    }
   ],
   "source": [
    "# ------------ SOLVED ------------\n",
    "def AddItemToTuple(mytuple, item):\n",
    "    mylist = list(mytuple)\n",
    "    mylist.append(item)\n",
    "    my_new_tuple = tuple(mylist)\n",
    "    return my_new_tuple\n",
    "\n",
    "print(AddItemToTuple((5, 8, 9, 0), 3))"
   ]
  },
  {
   "cell_type": "markdown",
   "id": "3e8fd124",
   "metadata": {},
   "source": [
    "**50-Write a Python program to convert a tuple to a string"
   ]
  },
  {
   "cell_type": "code",
   "execution_count": null,
   "id": "92a71ddc",
   "metadata": {},
   "outputs": [],
   "source": []
  },
  {
   "cell_type": "markdown",
   "id": "f4f64ef4",
   "metadata": {},
   "source": [
    "**51-Write a Python program to convert a list to a tuple"
   ]
  },
  {
   "cell_type": "code",
   "execution_count": 43,
   "id": "210d56d3",
   "metadata": {},
   "outputs": [
    {
     "name": "stdout",
     "output_type": "stream",
     "text": [
      "(1, 2, 3, 4, 5)\n"
     ]
    }
   ],
   "source": [
    "# ------------ SOLVED ------------\n",
    "def ListToTuple(mylist):\n",
    "    mytuple = tuple(mylist)\n",
    "    return mytuple\n",
    "\n",
    "print(ListToTuple([1, 2, 3, 4, 5]))"
   ]
  },
  {
   "cell_type": "markdown",
   "id": "b1e00ef7",
   "metadata": {},
   "source": [
    "**52-Write a Python program to reverse a tuple"
   ]
  },
  {
   "cell_type": "code",
   "execution_count": 44,
   "id": "f45bfdc7",
   "metadata": {},
   "outputs": [
    {
     "name": "stdout",
     "output_type": "stream",
     "text": [
      "(10, 9, 8, 7, 6, 5, 4, 3, 2, 1)\n"
     ]
    }
   ],
   "source": [
    "# ------------ SOLVED ------------\n",
    "def ReverseTuple(mytuple):\n",
    "    mytuple = mytuple[::-1]\n",
    "    return mytuple\n",
    "\n",
    "print(ReverseTuple((1, 2, 3, 4, 5, 6, 7, 8, 9, 10)))"
   ]
  },
  {
   "cell_type": "markdown",
   "id": "3cd347d1",
   "metadata": {},
   "source": [
    "**53-Write a Python program to replace the last value of tuples in a list.\n",
    "Sample list: [(10, 20, 40), (40, 50, 60), (70, 80, 90)]\n",
    "Expected Output: [(10, 20, 100), (40, 50, 100), (70, 80, 100)]"
   ]
  },
  {
   "cell_type": "code",
   "execution_count": null,
   "id": "3c4a2a4c",
   "metadata": {},
   "outputs": [],
   "source": []
  },
  {
   "cell_type": "markdown",
   "id": "76bb7b39",
   "metadata": {},
   "source": [
    "**54-Write a Python program to convert a given string list to a tuple\n",
    "Original string: python 3.0\n",
    "<class 'str'>\n",
    "Convert the said string to a tuple:\n",
    "('p', 'y', 't', 'h', 'o', 'n', '3', '.', '0')"
   ]
  },
  {
   "cell_type": "code",
   "execution_count": 45,
   "id": "51951937",
   "metadata": {},
   "outputs": [
    {
     "name": "stdout",
     "output_type": "stream",
     "text": [
      "('P', 'y', 't', 'h', 'o', 'n', ' ', '3', '.', '0')\n"
     ]
    }
   ],
   "source": [
    "# ------------ SOLVED ------------\n",
    "def ConvertStringToTuple(mystring):\n",
    "    mytuple = tuple(mystring)\n",
    "    return mytuple\n",
    "\n",
    "print(ConvertStringToTuple(\"Python 3.0\"))"
   ]
  },
  {
   "cell_type": "markdown",
   "id": "5a1d5d97",
   "metadata": {},
   "source": [
    "**55-Write a Python program to calculate the average value of the numbers in a given tuple of tuples"
   ]
  },
  {
   "cell_type": "code",
   "execution_count": 46,
   "id": "834e7992",
   "metadata": {},
   "outputs": [
    {
     "name": "stdout",
     "output_type": "stream",
     "text": [
      "5.142857142857143\n"
     ]
    }
   ],
   "source": [
    "# ------------ SOLVED ------------\n",
    "def Average(mytuple):\n",
    "    average = sum(mytuple) / len(mytuple)\n",
    "    return average\n",
    "\n",
    "print(Average((5, 4, 8, 9, 0, 3, 7)))"
   ]
  },
  {
   "cell_type": "markdown",
   "id": "51edab9c",
   "metadata": {},
   "source": [
    "**56-Write a Python program to add member(s) to a set."
   ]
  },
  {
   "cell_type": "code",
   "execution_count": 47,
   "id": "2b65df79",
   "metadata": {},
   "outputs": [
    {
     "name": "stdout",
     "output_type": "stream",
     "text": [
      "{0, 3, 5, 7, 8, 9}\n"
     ]
    }
   ],
   "source": [
    "# ------------ SOLVED ------------\n",
    "def AddItemToSet(myset, item):\n",
    "    sorted(myset)\n",
    "    for i in myset:\n",
    "        if item < i:\n",
    "            myset.add(item)\n",
    "            break\n",
    "        else:\n",
    "            continue\n",
    "    return myset\n",
    "\n",
    "print(AddItemToSet({0, 3, 7, 8, 9}, 5))"
   ]
  },
  {
   "cell_type": "markdown",
   "id": "965590cc",
   "metadata": {},
   "source": [
    "**57-Write a Python program to remove an item from a set if it is present in the set."
   ]
  },
  {
   "cell_type": "code",
   "execution_count": 48,
   "id": "866bab28",
   "metadata": {},
   "outputs": [
    {
     "name": "stdout",
     "output_type": "stream",
     "text": [
      "{0, 1, 3, 5, 9}\n"
     ]
    }
   ],
   "source": [
    "# ------------ SOLVED ------------\n",
    "def RemoveItemFromSet(myset, item):\n",
    "    for i in myset:\n",
    "        if i == item:\n",
    "            myset.remove(i)\n",
    "            break\n",
    "        else:\n",
    "            continue\n",
    "    return myset\n",
    "\n",
    "print(RemoveItemFromSet({1, 3, 5, 7, 9, 0}, 7))"
   ]
  },
  {
   "cell_type": "markdown",
   "id": "2b7cfed1",
   "metadata": {},
   "source": [
    "**58-Write a Python program to create an intersection,union,difference and symmetric difference of sets"
   ]
  },
  {
   "cell_type": "code",
   "execution_count": 49,
   "id": "7f94b7fe",
   "metadata": {},
   "outputs": [
    {
     "name": "stdout",
     "output_type": "stream",
     "text": [
      "The intersection between 2 sets is {1, 3, 5}\n"
     ]
    }
   ],
   "source": [
    "# ------------ SOLVED ------------\n",
    "def SetsIntersection(myset1, myset2):\n",
    "    return \"The intersection between 2 sets is \" + str(myset1.intersection(myset2))\n",
    "    return \"The union between 2 sets is \" + str(myset1.union(myset2))\n",
    "    return \"The difference between 2 sets is \" + str(myset1.difference(myset2))\n",
    "    return \"The symmetric difference between 2 sets is \" + str(myset1.symmetric_difference(myset2))\n",
    "\n",
    "print(SetsIntersection({1, 2, 3, 4, 5},{1, 3, 5, 7, 9}))"
   ]
  },
  {
   "cell_type": "code",
   "execution_count": 50,
   "id": "33aff1d5",
   "metadata": {},
   "outputs": [
    {
     "name": "stdout",
     "output_type": "stream",
     "text": [
      "The union between 2 sets is {1, 2, 3, 4, 5, 7, 9}\n"
     ]
    }
   ],
   "source": [
    "# ------------ SOLVED ------------\n",
    "def SetsUnion(myset1, myset2):\n",
    "    return \"The union between 2 sets is \" + str(myset1.union(myset2))\n",
    "\n",
    "print(SetsUnion({1, 2, 3, 4, 5},{1, 3, 5, 7, 9}))"
   ]
  },
  {
   "cell_type": "code",
   "execution_count": 51,
   "id": "0a4a6887",
   "metadata": {},
   "outputs": [
    {
     "name": "stdout",
     "output_type": "stream",
     "text": [
      "The difference between 2 sets is {2, 4}\n"
     ]
    }
   ],
   "source": [
    "# ------------ SOLVED ------------\n",
    "def SetsDifference(myset1, myset2):\n",
    "    return \"The difference between 2 sets is \" + str(myset1.difference(myset2))\n",
    "\n",
    "print(SetsDifference({1, 2, 3, 4, 5},{1, 3, 5, 7, 9}))"
   ]
  },
  {
   "cell_type": "code",
   "execution_count": 52,
   "id": "b38105e7",
   "metadata": {},
   "outputs": [
    {
     "name": "stdout",
     "output_type": "stream",
     "text": [
      "The symmetric difference between 2 sets is {2, 4, 7, 9}\n"
     ]
    }
   ],
   "source": [
    "# ------------ SOLVED ------------\n",
    "def SetsSymmetricDifference(myset1, myset2):\n",
    "    return \"The symmetric difference between 2 sets is \" + str(myset1.symmetric_difference(myset2))\n",
    "\n",
    "print(SetsSymmetricDifference({1, 2, 3, 4, 5},{1, 3, 5, 7, 9}))"
   ]
  },
  {
   "cell_type": "markdown",
   "id": "b94931e2",
   "metadata": {},
   "source": [
    "**59-Write a Python program to find the maximum and minimum values in a set"
   ]
  },
  {
   "cell_type": "code",
   "execution_count": 53,
   "id": "203f9600",
   "metadata": {},
   "outputs": [
    {
     "name": "stdout",
     "output_type": "stream",
     "text": [
      "The maximum value in the set is 9 and the minimum valu is 0\n"
     ]
    }
   ],
   "source": [
    "# ------------ SOLVED ------------\n",
    "def SetsValue(myset):\n",
    "    return \"The maximum value in the set is \" + str(max(myset)) + \" and the minimum valu is \" + str(min(myset))\n",
    "\n",
    "print(SetsValue({5, 4, 8, 9, 0, 3, 7}))"
   ]
  },
  {
   "cell_type": "markdown",
   "id": "255fd554",
   "metadata": {},
   "source": [
    "**60- Write a Python program that finds all pairs of elements in a list whose sum is equal to a given value."
   ]
  },
  {
   "cell_type": "code",
   "execution_count": 54,
   "id": "c2d94e1f",
   "metadata": {},
   "outputs": [
    {
     "name": "stdout",
     "output_type": "stream",
     "text": [
      "The first number is 5 + The second number 4 = The value 9\n"
     ]
    }
   ],
   "source": [
    "# ------------ SOLVED ------------\n",
    "def ElementPairs(mylist, item):\n",
    "    for i in range(len(mylist)):\n",
    "        for j in range(len(mylist)-1):\n",
    "            if mylist[i] + mylist[j] == item:\n",
    "                return \"The first number is \" + str(mylist[i]) + \" + \" + \"The second number \" + str(mylist[j]) + \" = The value \" + str(item)\n",
    "            else:\n",
    "                continue\n",
    "\n",
    "print(ElementPairs([5, 4, 8, 9, 0, 3, 7], 9))"
   ]
  },
  {
   "cell_type": "code",
   "execution_count": null,
   "id": "9789d1e8",
   "metadata": {},
   "outputs": [],
   "source": []
  },
  {
   "cell_type": "code",
   "execution_count": null,
   "id": "5048166b",
   "metadata": {},
   "outputs": [],
   "source": []
  }
 ],
 "metadata": {
  "kernelspec": {
   "display_name": "Python 3",
   "language": "python",
   "name": "python3"
  },
  "language_info": {
   "codemirror_mode": {
    "name": "ipython",
    "version": 3
   },
   "file_extension": ".py",
   "mimetype": "text/x-python",
   "name": "python",
   "nbconvert_exporter": "python",
   "pygments_lexer": "ipython3",
   "version": "3.8.8"
  }
 },
 "nbformat": 4,
 "nbformat_minor": 5
}
